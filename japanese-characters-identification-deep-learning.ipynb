{
 "cells": [
  {
   "cell_type": "markdown",
   "id": "signal-founder",
   "metadata": {
    "id": "CRNVzhoo1clG",
    "papermill": {
     "duration": 0.017718,
     "end_time": "2021-05-08T09:31:38.543517",
     "exception": false,
     "start_time": "2021-05-08T09:31:38.525799",
     "status": "completed"
    },
    "tags": []
   },
   "source": [
    "## **1. Mount google drive**\n",
    "---"
   ]
  },
  {
   "cell_type": "code",
   "execution_count": 1,
   "id": "considerable-delicious",
   "metadata": {
    "execution": {
     "iopub.execute_input": "2021-05-08T09:31:38.583866Z",
     "iopub.status.busy": "2021-05-08T09:31:38.582962Z",
     "iopub.status.idle": "2021-05-08T09:31:38.586177Z",
     "shell.execute_reply": "2021-05-08T09:31:38.585506Z"
    },
    "id": "5W39GXyk1hME",
    "outputId": "dc097d4e-2655-40da-9aec-5a8df8387923",
    "papermill": {
     "duration": 0.025886,
     "end_time": "2021-05-08T09:31:38.586349",
     "exception": false,
     "start_time": "2021-05-08T09:31:38.560463",
     "status": "completed"
    },
    "tags": []
   },
   "outputs": [],
   "source": [
    "#from google.colab import drive\n",
    "#drive.mount('/content/gdrive')"
   ]
  },
  {
   "cell_type": "markdown",
   "id": "prerequisite-doctrine",
   "metadata": {
    "id": "dOQ-2xS_MYHi",
    "papermill": {
     "duration": 0.016666,
     "end_time": "2021-05-08T09:31:38.620274",
     "exception": false,
     "start_time": "2021-05-08T09:31:38.603608",
     "status": "completed"
    },
    "tags": []
   },
   "source": [
    "## **2. Import the necessary libraries**\n",
    "---"
   ]
  },
  {
   "cell_type": "code",
   "execution_count": 2,
   "id": "oriental-bracket",
   "metadata": {
    "execution": {
     "iopub.execute_input": "2021-05-08T09:31:38.663101Z",
     "iopub.status.busy": "2021-05-08T09:31:38.662203Z",
     "iopub.status.idle": "2021-05-08T09:31:45.629318Z",
     "shell.execute_reply": "2021-05-08T09:31:45.628476Z"
    },
    "id": "yoi4gWDELtek",
    "outputId": "6c167e0c-947e-44fb-ad39-adda7130d792",
    "papermill": {
     "duration": 6.992268,
     "end_time": "2021-05-08T09:31:45.629485",
     "exception": false,
     "start_time": "2021-05-08T09:31:38.637217",
     "status": "completed"
    },
    "tags": []
   },
   "outputs": [
    {
     "name": "stdout",
     "output_type": "stream",
     "text": [
      "Versions of key libraries\n",
      "---\n",
      "tensorflow:  2.4.1\n",
      "numpy:       1.19.5\n",
      "matplotlib:  3.4.0\n",
      "sklearn:     0.24.1\n"
     ]
    }
   ],
   "source": [
    "import matplotlib\n",
    "import sklearn\n",
    "import numpy as np\n",
    "import pandas as pd\n",
    "import sklearn.metrics as metrics\n",
    "import matplotlib.pyplot as plt\n",
    "import tensorflow as tf\n",
    "import os\n",
    "\n",
    "\n",
    "from tensorflow.keras.callbacks import ModelCheckpoint,CSVLogger\n",
    "from tensorflow.keras.models import Sequential\n",
    "from tensorflow.keras.layers import Dense\n",
    "from tensorflow.keras.layers import Dropout\n",
    "from tensorflow.keras.layers import Flatten\n",
    "from tensorflow.keras.layers import Conv2D\n",
    "from tensorflow.keras.layers import MaxPooling2D\n",
    "from tensorflow.keras.utils import to_categorical\n",
    "from tensorflow.keras.utils import plot_model\n",
    "\n",
    "\n",
    "print(\"Versions of key libraries\")\n",
    "print(\"---\")\n",
    "print(\"tensorflow: \", tf.__version__)\n",
    "print(\"numpy:      \", np.__version__)\n",
    "print(\"matplotlib: \", matplotlib.__version__)\n",
    "print(\"sklearn:    \", sklearn.__version__)"
   ]
  },
  {
   "cell_type": "markdown",
   "id": "dedicated-religion",
   "metadata": {
    "id": "0amhwjZ4M2m-",
    "papermill": {
     "duration": 0.017298,
     "end_time": "2021-05-08T09:31:45.665286",
     "exception": false,
     "start_time": "2021-05-08T09:31:45.647988",
     "status": "completed"
    },
    "tags": []
   },
   "source": [
    "## **3.Create a function to plot the japanese character correctly**\n",
    "---"
   ]
  },
  {
   "cell_type": "code",
   "execution_count": 3,
   "id": "treated-sword",
   "metadata": {
    "execution": {
     "iopub.execute_input": "2021-05-08T09:31:45.709837Z",
     "iopub.status.busy": "2021-05-08T09:31:45.708855Z",
     "iopub.status.idle": "2021-05-08T09:31:45.712336Z",
     "shell.execute_reply": "2021-05-08T09:31:45.712818Z"
    },
    "id": "OFxsBB1mNXl2",
    "outputId": "723a8de6-86c7-4f71-9b32-95c91fd97857",
    "papermill": {
     "duration": 0.028747,
     "end_time": "2021-05-08T09:31:45.713005",
     "exception": false,
     "start_time": "2021-05-08T09:31:45.684258",
     "status": "completed"
    },
    "tags": []
   },
   "outputs": [
    {
     "name": "stdout",
     "output_type": "stream",
     "text": [
      "<function grayplt at 0x7f13f8597200>\n"
     ]
    }
   ],
   "source": [
    "def grayplt(img,title=''):\n",
    "    plt.axis('off')\n",
    "    if np.size(img.shape) == 3:\n",
    "        plt.imshow(img[:,:,0],cmap='gray',vmin=0,vmax=1)\n",
    "    else:\n",
    "        plt.imshow(img,cmap='gray',vmin=0,vmax=1)\n",
    "    plt.title(title, fontproperties=prop)\n",
    "    plt.show()\n",
    "\n",
    "print(grayplt)"
   ]
  },
  {
   "cell_type": "markdown",
   "id": "crazy-supplement",
   "metadata": {
    "id": "X3N41iixORPz",
    "papermill": {
     "duration": 0.017592,
     "end_time": "2021-05-08T09:31:45.749238",
     "exception": false,
     "start_time": "2021-05-08T09:31:45.731646",
     "status": "completed"
    },
    "tags": []
   },
   "source": [
    "## **4. Setup matplotlib**\n",
    "---"
   ]
  },
  {
   "cell_type": "code",
   "execution_count": 4,
   "id": "great-married",
   "metadata": {
    "execution": {
     "iopub.execute_input": "2021-05-08T09:31:45.793837Z",
     "iopub.status.busy": "2021-05-08T09:31:45.792936Z",
     "iopub.status.idle": "2021-05-08T09:31:45.797409Z",
     "shell.execute_reply": "2021-05-08T09:31:45.796853Z"
    },
    "id": "OyO5OsUrOYNQ",
    "outputId": "ce9f8cfa-da02-4d31-b2e1-bb59d537d3ef",
    "papermill": {
     "duration": 0.030051,
     "end_time": "2021-05-08T09:31:45.797549",
     "exception": false,
     "start_time": "2021-05-08T09:31:45.767498",
     "status": "completed"
    },
    "tags": []
   },
   "outputs": [
    {
     "name": "stdout",
     "output_type": "stream",
     "text": [
      "Matplotlib setup completes.\n"
     ]
    }
   ],
   "source": [
    "                                          # Setting up the font manager, so that\n",
    "                                          # it can show japanese characters correctly\n",
    "from matplotlib import font_manager as fm\n",
    "fpath       = os.path.join(\"../input/sivakmnist/\", \"ipam.ttf\")\n",
    "prop        = fm.FontProperties(fname=fpath)\n",
    "\n",
    "plt.style.use('seaborn') \n",
    "plt.rcParams['ytick.right']     = True\n",
    "plt.rcParams['ytick.labelright']= True\n",
    "plt.rcParams['ytick.left']      = False\n",
    "plt.rcParams['ytick.labelleft'] = False\n",
    "plt.rcParams['figure.figsize']  = [7,7]   # Set the figure size to be 7 inch for (width,height)\n",
    "\n",
    "print(\"Matplotlib setup completes.\")"
   ]
  },
  {
   "cell_type": "markdown",
   "id": "enhanced-amazon",
   "metadata": {
    "id": "5w2jAiKZOmgP",
    "papermill": {
     "duration": 0.018026,
     "end_time": "2021-05-08T09:31:45.833791",
     "exception": false,
     "start_time": "2021-05-08T09:31:45.815765",
     "status": "completed"
    },
    "tags": []
   },
   "source": [
    "## **5. Prepare data for training and testing**\n",
    "---\n",
    "* Step 1: Load the dataset \n",
    "* Step 2: Check the shape and type of the data, plot a sample for observation\n",
    "* Step 3: Convert the data into float32 and rescale the values from the range of 0\\~255 into 0\\~1\n",
    "* Step 4: Retrieve the row size and the column size of each image\n",
    "* Step 5: Reshape training and testing data to be in the form of `[samples,rows,columns,channel]`. This is required by Keras framework\n",
    "* Step 6: Perform one-hot enconding on the labels\n",
    "* Step 7: Retrieve the number of classes in this problem"
   ]
  },
  {
   "cell_type": "code",
   "execution_count": 5,
   "id": "endless-armor",
   "metadata": {
    "execution": {
     "iopub.execute_input": "2021-05-08T09:31:45.879978Z",
     "iopub.status.busy": "2021-05-08T09:31:45.879280Z",
     "iopub.status.idle": "2021-05-08T09:31:47.387425Z",
     "shell.execute_reply": "2021-05-08T09:31:47.387969Z"
    },
    "id": "v3Ad2V0pO1TX",
    "outputId": "7b49883a-0da4-430d-e172-d76dd7905578",
    "papermill": {
     "duration": 1.536057,
     "end_time": "2021-05-08T09:31:47.388171",
     "exception": false,
     "start_time": "2021-05-08T09:31:45.852114",
     "status": "completed"
    },
    "tags": []
   },
   "outputs": [
    {
     "name": "stdout",
     "output_type": "stream",
     "text": [
      "The shape of trDat is (60000, 28, 28) and the type of trDat is uint8\n",
      "The shape of tsDat is (10000, 28, 28) and the type of tsDat is uint8\n",
      "\n",
      "The shape of trLbl is (60000,) and the type of trLbl is uint8\n",
      "The shape of tsLbl is (10000,) and the type of tsLbl is uint8\n",
      "\n"
     ]
    },
    {
     "data": {
      "image/png": "[encoded data removed]",
      "text/plain": [
       "<Figure size 504x504 with 1 Axes>"
      ]
     },
     "metadata": {},
     "output_type": "display_data"
    }
   ],
   "source": [
    "                                                                                # Step 1\n",
    "trDat = np.load('../input/sivakmnist/kmnist-train-imgs.npz')['arr_0']\n",
    "trLbl = np.load('../input/sivakmnist/kmnist-train-labels.npz')['arr_0']\n",
    "tsDat = np.load('../input/sivakmnist/kmnist-test-imgs.npz')['arr_0']\n",
    "tsLbl  = np.load('../input/sivakmnist/kmnist-test-labels.npz')['arr_0']\n",
    "\n",
    "                                                                                # Step 2\n",
    "print(\"The shape of trDat is\", trDat.shape, \"and the type of trDat is\", trDat.dtype)\n",
    "print(\"The shape of tsDat is\", tsDat.shape, \"and the type of tsDat is\", tsDat.dtype)\n",
    "print(\"\")\n",
    "print(\"The shape of trLbl is\", trLbl.shape, \"and the type of trLbl is\", trLbl.dtype)\n",
    "print(\"The shape of tsLbl is\", tsLbl.shape, \"and the type of tsLbl is\", tsLbl.dtype)\n",
    "print(\"\")\n",
    "grayplt(trDat[132])\n",
    "\n",
    "                                                                                # Step 3\n",
    "trDat           = trDat.astype('float32')/255\n",
    "tsDat           = tsDat.astype('float32')/255\n",
    "\n",
    "                                                                                # Step 4\n",
    "imgrows         = trDat.shape[1]\n",
    "imgclms         = trDat.shape[2]\n",
    "\n",
    "                                                                                # Step 5\n",
    "trDat       = trDat.reshape(trDat.shape[0],\n",
    "                            imgrows,\n",
    "                            imgclms,\n",
    "                            1)\n",
    "tsDat       = tsDat.reshape(tsDat.shape[0],\n",
    "                            imgrows,\n",
    "                            imgclms,\n",
    "                            1)\n",
    "\n",
    "                                                                                # Step 6\n",
    "trLbl           = to_categorical(trLbl)\n",
    "tsLbl           = to_categorical(tsLbl)\n",
    "                               \n",
    "num_classes     = tsLbl.shape[1]                                                # Step 7"
   ]
  },
  {
   "cell_type": "markdown",
   "id": "american-aggregate",
   "metadata": {
    "id": "DoP3WcoJW-jZ",
    "papermill": {
     "duration": 0.018883,
     "end_time": "2021-05-08T09:31:47.426578",
     "exception": false,
     "start_time": "2021-05-08T09:31:47.407695",
     "status": "completed"
    },
    "tags": []
   },
   "source": [
    "## **6. Define deep learning model (to be completed)**\n",
    "___\n",
    "* Step 1: Set a name for the coming model (required for saving)\n",
    "* Step 2: Define the convolutional neural network model (to be completed)\n",
    "* Step 3: Create models for training and testing\n",
    "* Step 4: Display the summary of the model of interest \n",
    "\n",
    "**You may trial and error various structures (for input or number of channels or kernels sizes or pooling sizes) and see what happens to the performance**"
   ]
  },
  {
   "cell_type": "code",
   "execution_count": 6,
   "id": "decimal-metallic",
   "metadata": {
    "execution": {
     "iopub.execute_input": "2021-05-08T09:31:47.475541Z",
     "iopub.status.busy": "2021-05-08T09:31:47.474795Z",
     "iopub.status.idle": "2021-05-08T09:31:47.705786Z",
     "shell.execute_reply": "2021-05-08T09:31:47.706607Z"
    },
    "id": "0HMOes0kXCPd",
    "outputId": "4bacf295-ed28-478f-97f1-aa4a679c9858",
    "papermill": {
     "duration": 0.261067,
     "end_time": "2021-05-08T09:31:47.706852",
     "exception": false,
     "start_time": "2021-05-08T09:31:47.445785",
     "status": "completed"
    },
    "tags": []
   },
   "outputs": [
    {
     "name": "stdout",
     "output_type": "stream",
     "text": [
      "Model: \"sequential\"\n",
      "_________________________________________________________________\n",
      "Layer (type)                 Output Shape              Param #   \n",
      "=================================================================\n",
      "conv2d (Conv2D)              (None, 24, 24, 20)        520       \n",
      "_________________________________________________________________\n",
      "max_pooling2d (MaxPooling2D) (None, 12, 12, 20)        0         \n",
      "_________________________________________________________________\n",
      "conv2d_1 (Conv2D)            (None, 8, 8, 40)          20040     \n",
      "_________________________________________________________________\n",
      "max_pooling2d_1 (MaxPooling2 (None, 4, 4, 40)          0         \n",
      "_________________________________________________________________\n",
      "dropout (Dropout)            (None, 4, 4, 40)          0         \n",
      "_________________________________________________________________\n",
      "flatten (Flatten)            (None, 640)               0         \n",
      "_________________________________________________________________\n",
      "dense (Dense)                (None, 512)               328192    \n",
      "_________________________________________________________________\n",
      "dense_1 (Dense)              (None, 128)               65664     \n",
      "_________________________________________________________________\n",
      "dense_2 (Dense)              (None, 64)                8256      \n",
      "_________________________________________________________________\n",
      "dense_3 (Dense)              (None, 10)                650       \n",
      "=================================================================\n",
      "Total params: 423,322\n",
      "Trainable params: 423,322\n",
      "Non-trainable params: 0\n",
      "_________________________________________________________________\n"
     ]
    }
   ],
   "source": [
    "modelname   = 'wks5_5'                                                          # Step 1\n",
    "\n",
    "                                                                                # Step 2\n",
    "def createModel():\n",
    "  model =Sequential()\n",
    "  model.add(Conv2D(20,(5,5), input_shape=(28,28,1), activation='relu'))\n",
    "  model.add(MaxPooling2D(pool_size=(2,2)))\n",
    "  model.add(Conv2D(40,(5,5), activation='relu'))\n",
    "  model.add(MaxPooling2D(pool_size=(2 , 2 )))\n",
    "  model.add(Dropout(0.2))\n",
    "  model.add(Flatten())\n",
    "  model.add(Dense(512 , activation='relu'))\n",
    "  model.add(Dense(128 , activation='relu'))\n",
    "  model.add(Dense(64 , activation='relu'))\n",
    "  model.add(Dense(num_classes,activation='softmax'))\n",
    "  model.compile(loss='categorical_crossentropy',optimizer='adam',metrics=['accuracy'])\n",
    "  return model\n",
    "\n",
    "                                                                                # Step 3\n",
    "model       = createModel() # This is meant for training\n",
    "modelGo     = createModel() # This is used for final testing\n",
    "\n",
    "model.summary()                                                                 # Step 4"
   ]
  },
  {
   "cell_type": "markdown",
   "id": "productive-population",
   "metadata": {
    "id": "DlquJEaFZxV9",
    "papermill": {
     "duration": 0.019466,
     "end_time": "2021-05-08T09:31:47.746786",
     "exception": false,
     "start_time": "2021-05-08T09:31:47.727320",
     "status": "completed"
    },
    "tags": []
   },
   "source": [
    "## **7. Create the callbacks to be applied during training**\n",
    "---\n",
    "* Step 1: Create a callback to save the model from an epoch when validation accuracy is the highest\n",
    "* Step 2: Create a callback to save the training loss, training accuracy, validation loss and validation accuracy of each epoch into a csv file\n",
    "* Step 3: Put the two callbacks objects into a list"
   ]
  },
  {
   "cell_type": "code",
   "execution_count": 7,
   "id": "manual-soundtrack",
   "metadata": {
    "execution": {
     "iopub.execute_input": "2021-05-08T09:31:47.795813Z",
     "iopub.status.busy": "2021-05-08T09:31:47.794946Z",
     "iopub.status.idle": "2021-05-08T09:31:47.798412Z",
     "shell.execute_reply": "2021-05-08T09:31:47.799127Z"
    },
    "id": "9-a1LSCbahKy",
    "outputId": "33e0fdd2-d6e7-4582-8a65-bff3d567f238",
    "papermill": {
     "duration": 0.032708,
     "end_time": "2021-05-08T09:31:47.799303",
     "exception": false,
     "start_time": "2021-05-08T09:31:47.766595",
     "status": "completed"
    },
    "tags": []
   },
   "outputs": [
    {
     "name": "stdout",
     "output_type": "stream",
     "text": [
      "Callbacks created:\n",
      "<tensorflow.python.keras.callbacks.ModelCheckpoint object at 0x7f14304a74d0>\n",
      "<tensorflow.python.keras.callbacks.CSVLogger object at 0x7f14304a7f90>\n",
      "\n",
      "Path to model: ./wks5_5.hdf5\n",
      "Path to log:   ./wks5_5.csv\n"
     ]
    }
   ],
   "source": [
    "                                                                                # Step 1\n",
    "folderpath      = './'\n",
    "filepath        = folderpath + modelname + \".hdf5\"\n",
    "checkpoint      = ModelCheckpoint(filepath, \n",
    "                                  monitor='val_accuracy', \n",
    "                                  verbose=0, \n",
    "                                  save_best_only=True, \n",
    "                                  mode='max')\n",
    "\n",
    "csv_logger      = CSVLogger(folderpath+modelname +'.csv')                       # Step 2\n",
    "callbacks_list  = [checkpoint,csv_logger]                                       # Step 3\n",
    "\n",
    "print(\"Callbacks created:\")\n",
    "print(callbacks_list[0])\n",
    "print(callbacks_list[1])\n",
    "print('')\n",
    "print(\"Path to model:\", filepath)\n",
    "print(\"Path to log:  \", folderpath+modelname+'.csv')"
   ]
  },
  {
   "cell_type": "markdown",
   "id": "younger-recorder",
   "metadata": {
    "id": "1mKgjQsmfOBz",
    "papermill": {
     "duration": 0.020295,
     "end_time": "2021-05-08T09:31:47.840635",
     "exception": false,
     "start_time": "2021-05-08T09:31:47.820340",
     "status": "completed"
    },
    "tags": []
   },
   "source": [
    "## **8. Train the deep learning model**\n",
    "___"
   ]
  },
  {
   "cell_type": "code",
   "execution_count": 8,
   "id": "fourth-flower",
   "metadata": {
    "execution": {
     "iopub.execute_input": "2021-05-08T09:31:47.887541Z",
     "iopub.status.busy": "2021-05-08T09:31:47.886835Z",
     "iopub.status.idle": "2021-05-08T09:32:35.290234Z",
     "shell.execute_reply": "2021-05-08T09:32:35.289699Z"
    },
    "id": "23lUNwpGfV0A",
    "outputId": "25a19a80-1b1f-4478-d0b9-c888b212cb9d",
    "papermill": {
     "duration": 47.429117,
     "end_time": "2021-05-08T09:32:35.290387",
     "exception": false,
     "start_time": "2021-05-08T09:31:47.861270",
     "status": "completed"
    },
    "tags": []
   },
   "outputs": [
    {
     "name": "stdout",
     "output_type": "stream",
     "text": [
      "Epoch 1/2\n",
      "469/469 [==============================] - 24s 51ms/step - loss: 0.7566 - accuracy: 0.7563 - val_loss: 0.3546 - val_accuracy: 0.8912\n",
      "Epoch 2/2\n",
      "469/469 [==============================] - 23s 48ms/step - loss: 0.1303 - accuracy: 0.9598 - val_loss: 0.2455 - val_accuracy: 0.9291\n"
     ]
    },
    {
     "data": {
      "text/plain": [
       "<tensorflow.python.keras.callbacks.History at 0x7f13f51aa150>"
      ]
     },
     "execution_count": 8,
     "metadata": {},
     "output_type": "execute_result"
    }
   ],
   "source": [
    "model.fit(trDat,                            # Training data\n",
    "          trLbl,                            # Training label\n",
    "          validation_data=(tsDat, tsLbl),   # Validation data and label\n",
    "          epochs=2,                       # The amount of epochs to be trained\n",
    "          batch_size=128,                   \n",
    "          shuffle=True,                     # To shuffle the training data\n",
    "          callbacks=callbacks_list)         # Callbacks to execute the checkpoints"
   ]
  },
  {
   "cell_type": "markdown",
   "id": "physical-stock",
   "metadata": {
    "id": "TevfJTd-s0nk",
    "papermill": {
     "duration": 0.176762,
     "end_time": "2021-05-08T09:32:35.644876",
     "exception": false,
     "start_time": "2021-05-08T09:32:35.468114",
     "status": "completed"
    },
    "tags": []
   },
   "source": [
    "## **9. Validate the deep learning model**\n",
    "---\n",
    "* Step 1: Load the trained weights and compile the model\n",
    "* Step 2: Make prediction\n"
   ]
  },
  {
   "cell_type": "code",
   "execution_count": 9,
   "id": "adapted-ultimate",
   "metadata": {
    "execution": {
     "iopub.execute_input": "2021-05-08T09:32:36.048419Z",
     "iopub.status.busy": "2021-05-08T09:32:36.040695Z",
     "iopub.status.idle": "2021-05-08T09:32:37.733909Z",
     "shell.execute_reply": "2021-05-08T09:32:37.733259Z"
    },
    "id": "2sVtWmcVtiV5",
    "outputId": "793a16bc-af1d-4071-a11a-f7344161f37b",
    "papermill": {
     "duration": 1.910402,
     "end_time": "2021-05-08T09:32:37.734069",
     "exception": false,
     "start_time": "2021-05-08T09:32:35.823667",
     "status": "completed"
    },
    "tags": []
   },
   "outputs": [
    {
     "name": "stdout",
     "output_type": "stream",
     "text": [
      "Prediction completes.\n"
     ]
    }
   ],
   "source": [
    "                                                                                # Step 1\n",
    "modelGo.load_weights(filepath)\n",
    "modelGo.compile(loss='categorical_crossentropy', \n",
    "                optimizer='adam', \n",
    "                metrics=['accuracy'])\n",
    "\n",
    "predicts    = modelGo.predict(tsDat)                                            # Step 2\n",
    "print(\"Prediction completes.\")"
   ]
  },
  {
   "cell_type": "markdown",
   "id": "original-literacy",
   "metadata": {
    "id": "0aOCUljp5qq4",
    "papermill": {
     "duration": 0.178664,
     "end_time": "2021-05-08T09:32:38.093809",
     "exception": false,
     "start_time": "2021-05-08T09:32:37.915145",
     "status": "completed"
    },
    "tags": []
   },
   "source": [
    "## **10. Report classification metrics**\n",
    "---\n",
    "* Step 1: Setup the label\n",
    "* Step 2: Convert label from one-hot to integer\n",
    "* Step 3: Calculate the accuracy score\n",
    "* Step 4: Generate classification report"
   ]
  },
  {
   "cell_type": "code",
   "execution_count": 10,
   "id": "adjusted-seller",
   "metadata": {
    "execution": {
     "iopub.execute_input": "2021-05-08T09:32:38.456338Z",
     "iopub.status.busy": "2021-05-08T09:32:38.455297Z",
     "iopub.status.idle": "2021-05-08T09:32:38.489966Z",
     "shell.execute_reply": "2021-05-08T09:32:38.489424Z"
    },
    "id": "2tI4hBmk5uRh",
    "outputId": "a87f0afa-841f-44da-fb44-bb1aff40a72c",
    "papermill": {
     "duration": 0.218255,
     "end_time": "2021-05-08T09:32:38.490125",
     "exception": false,
     "start_time": "2021-05-08T09:32:38.271870",
     "status": "completed"
    },
    "tags": []
   },
   "outputs": [
    {
     "name": "stdout",
     "output_type": "stream",
     "text": [
      "Best accuracy (on testing dataset): 92.91%\n",
      "              precision    recall  f1-score   support\n",
      "\n",
      "         お O     0.9368    0.9490    0.9429      1000\n",
      "        き Ki     0.9002    0.9290    0.9144      1000\n",
      "        す Su     0.9037    0.8540    0.8781      1000\n",
      "       つ Tsu     0.9246    0.9560    0.9400      1000\n",
      "        な Na     0.9613    0.8940    0.9264      1000\n",
      "        は Ha     0.9074    0.9500    0.9282      1000\n",
      "        ま Ma     0.8928    0.9410    0.9163      1000\n",
      "        や Ya     0.9545    0.9440    0.9492      1000\n",
      "        れ Re     0.9472    0.9320    0.9395      1000\n",
      "        を Wo     0.9691    0.9420    0.9554      1000\n",
      "\n",
      "    accuracy                         0.9291     10000\n",
      "   macro avg     0.9298    0.9291    0.9290     10000\n",
      "weighted avg     0.9298    0.9291    0.9290     10000\n",
      "\n"
     ]
    }
   ],
   "source": [
    "                                                                                # Step 1\n",
    "labelname   = ['お O','き Ki','す Su','つ Tsu','な Na','は Ha','ま Ma','や Ya','れ Re','を Wo']\n",
    "                                                                                # Step 2\n",
    "predout     = np.argmax(predicts,axis=1)\n",
    "testout     = np.argmax(tsLbl,axis=1)\n",
    "\n",
    "testScores  = metrics.accuracy_score(testout,predout)                           # Step 3\n",
    "\n",
    "                                                                                # Step 4\n",
    "print(\"Best accuracy (on testing dataset): %.2f%%\" % (testScores*100))\n",
    "print(metrics.classification_report(testout,\n",
    "                                    predout,\n",
    "                                    target_names=labelname,\n",
    "                                    digits=4))"
   ]
  },
  {
   "cell_type": "markdown",
   "id": "grave-reduction",
   "metadata": {
    "id": "gEK_4UXN6IVa",
    "papermill": {
     "duration": 0.177145,
     "end_time": "2021-05-08T09:32:38.843596",
     "exception": false,
     "start_time": "2021-05-08T09:32:38.666451",
     "status": "completed"
    },
    "tags": []
   },
   "source": [
    "## **11. Print confusion matrix**\n",
    "---"
   ]
  },
  {
   "cell_type": "code",
   "execution_count": 11,
   "id": "hairy-hypothesis",
   "metadata": {
    "execution": {
     "iopub.execute_input": "2021-05-08T09:32:39.205419Z",
     "iopub.status.busy": "2021-05-08T09:32:39.204424Z",
     "iopub.status.idle": "2021-05-08T09:32:39.225273Z",
     "shell.execute_reply": "2021-05-08T09:32:39.224617Z"
    },
    "id": "UCBJCYp26L1t",
    "outputId": "db68119c-95c5-4277-dc19-d7b2c262a6b7",
    "papermill": {
     "duration": 0.204331,
     "end_time": "2021-05-08T09:32:39.225423",
     "exception": false,
     "start_time": "2021-05-08T09:32:39.021092",
     "status": "completed"
    },
    "tags": []
   },
   "outputs": [
    {
     "name": "stdout",
     "output_type": "stream",
     "text": [
      "[[949   6   1   3   9  21   1   7   1   2]\n",
      " [  3 929   2   1   7   4  44   2   4   4]\n",
      " [ 11  13 854  41   6  20  23  11  15   6]\n",
      " [  1   2  15 956   0  21   0   0   2   3]\n",
      " [ 23   7   5   9 894  10  10  14  22   6]\n",
      " [  2   7  17   2   3 950  13   3   1   2]\n",
      " [  4   8  34   2   2   5 941   3   0   1]\n",
      " [  6  16   2   1   1   7  15 944   2   6]\n",
      " [  4  35   6  12   0   8   2   1 932   0]\n",
      " [ 10   9   9   7   8   1   5   4   5 942]]\n"
     ]
    }
   ],
   "source": [
    "confusion   = metrics.confusion_matrix(testout,predout)\n",
    "print(confusion)"
   ]
  },
  {
   "cell_type": "markdown",
   "id": "grave-field",
   "metadata": {
    "id": "2QMIDPD46UGT",
    "papermill": {
     "duration": 0.182566,
     "end_time": "2021-05-08T09:32:39.587446",
     "exception": false,
     "start_time": "2021-05-08T09:32:39.404880",
     "status": "completed"
    },
    "tags": []
   },
   "source": [
    "## **12. Plot curves on validation loss and accuracy**\n",
    "---"
   ]
  },
  {
   "cell_type": "code",
   "execution_count": 12,
   "id": "duplicate-recruitment",
   "metadata": {
    "execution": {
     "iopub.execute_input": "2021-05-08T09:32:39.978158Z",
     "iopub.status.busy": "2021-05-08T09:32:39.966066Z",
     "iopub.status.idle": "2021-05-08T09:32:40.212135Z",
     "shell.execute_reply": "2021-05-08T09:32:40.211603Z"
    },
    "id": "qr2ZbvUi6YHf",
    "outputId": "ad1d0efd-b398-4559-f4d7-9494c9d82e36",
    "papermill": {
     "duration": 0.44717,
     "end_time": "2021-05-08T09:32:40.212278",
     "exception": false,
     "start_time": "2021-05-08T09:32:39.765108",
     "status": "completed"
    },
    "tags": []
   },
   "outputs": [
    {
     "data": {
      "image/png": "[encoded data removed]",
      "text/plain": [
       "<Figure size 504x504 with 2 Axes>"
      ]
     },
     "metadata": {},
     "output_type": "display_data"
    }
   ],
   "source": [
    "records     = pd.read_csv(folderpath+modelname +'.csv')\n",
    "plt.figure()\n",
    "plt.subplot(211)\n",
    "plt.plot(records['val_loss'], label=\"validation\")\n",
    "plt.plot(records['loss'],label=\"training\")\n",
    "plt.yticks([0.10,0.30,0.50,0.70])\n",
    "plt.title('Loss value',fontsize=12)\n",
    "\n",
    "ax          = plt.gca()\n",
    "ax.set_xticklabels([])\n",
    "\n",
    "plt.subplot(212)\n",
    "plt.plot(records['val_accuracy'],label=\"validation\")\n",
    "plt.plot(records['accuracy'],label=\"training\")\n",
    "plt.yticks([0.7,0.8,0.9,1.0])\n",
    "plt.title('Accuracy',fontsize=12)\n",
    "ax.legend()\n",
    "plt.show()"
   ]
  },
  {
   "cell_type": "markdown",
   "id": "electoral-upgrade",
   "metadata": {
    "id": "PWoTz-bLug3X",
    "papermill": {
     "duration": 0.180189,
     "end_time": "2021-05-08T09:32:40.571490",
     "exception": false,
     "start_time": "2021-05-08T09:32:40.391301",
     "status": "completed"
    },
    "tags": []
   },
   "source": [
    "## **13. Save the model plot**\n",
    "---"
   ]
  },
  {
   "cell_type": "code",
   "execution_count": 13,
   "id": "secondary-philip",
   "metadata": {
    "execution": {
     "iopub.execute_input": "2021-05-08T09:32:40.940361Z",
     "iopub.status.busy": "2021-05-08T09:32:40.939636Z",
     "iopub.status.idle": "2021-05-08T09:32:41.520606Z",
     "shell.execute_reply": "2021-05-08T09:32:41.519994Z"
    },
    "id": "Tz1YfuV1ujcE",
    "outputId": "e4b8df1e-c2c2-4034-a1de-d2bc7a2e0d0c",
    "papermill": {
     "duration": 0.768466,
     "end_time": "2021-05-08T09:32:41.520746",
     "exception": false,
     "start_time": "2021-05-08T09:32:40.752280",
     "status": "completed"
    },
    "tags": []
   },
   "outputs": [
    {
     "name": "stdout",
     "output_type": "stream",
     "text": [
      "Path to plot: ./wks5_5_plot.png\n"
     ]
    }
   ],
   "source": [
    "plotpath  = folderpath+modelname+'_plot.png'\n",
    "plot_model(model, \n",
    "           to_file=plotpath, \n",
    "           show_shapes=True, \n",
    "           show_layer_names=False,\n",
    "           rankdir='TB')\n",
    "\n",
    "print(\"Path to plot:\", plotpath)"
   ]
  },
  {
   "cell_type": "code",
   "execution_count": null,
   "id": "pointed-evanescence",
   "metadata": {
    "id": "DzEGWBjfiqXn",
    "papermill": {
     "duration": 0.179534,
     "end_time": "2021-05-08T09:32:41.880635",
     "exception": false,
     "start_time": "2021-05-08T09:32:41.701101",
     "status": "completed"
    },
    "tags": []
   },
   "outputs": [],
   "source": []
  }
 ],
 "metadata": {
  "kernelspec": {
   "display_name": "Python 3",
   "language": "python",
   "name": "python3"
  },
  "language_info": {
   "codemirror_mode": {
    "name": "ipython",
    "version": 3
   },
   "file_extension": ".py",
   "mimetype": "text/x-python",
   "name": "python",
   "nbconvert_exporter": "python",
   "pygments_lexer": "ipython3",
   "version": "3.7.9"
  },
  "papermill": {
   "default_parameters": {},
   "duration": 71.432887,
   "end_time": "2021-05-08T09:32:43.273605",
   "environment_variables": {},
   "exception": null,
   "input_path": "__notebook__.ipynb",
   "output_path": "__notebook__.ipynb",
   "parameters": {},
   "start_time": "2021-05-08T09:31:31.840718",
   "version": "2.3.2"
  }
 },
 "nbformat": 4,
 "nbformat_minor": 5
}
